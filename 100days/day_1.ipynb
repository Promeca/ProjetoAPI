{
 "cells": [
  {
   "cell_type": "code",
   "execution_count": 2,
   "metadata": {},
   "outputs": [],
   "source": [
    "# aprendendo sobre input:\n",
    "\n",
    "# exercicio faça um programa que conte os caracteres de uma palavra\n",
    "# a palavra sera inserida no terminal atraves da funcao input:\n"
   ]
  },
  {
   "cell_type": "code",
   "execution_count": 6,
   "metadata": {},
   "outputs": [
    {
     "name": "stdout",
     "output_type": "stream",
     "text": [
      "17\n"
     ]
    }
   ],
   "source": [
    "print(len(input()))"
   ]
  },
  {
   "cell_type": "code",
   "execution_count": 4,
   "metadata": {},
   "outputs": [
    {
     "name": "stdout",
     "output_type": "stream",
     "text": [
      "PROMECA015 BEM VINDO!\n"
     ]
    }
   ],
   "source": [
    "login = input('Inserir nome de usuário')\n",
    "print(login+\" BEM VINDO!\")"
   ]
  },
  {
   "cell_type": "code",
   "execution_count": 18,
   "metadata": {},
   "outputs": [
    {
     "name": "stdout",
     "output_type": "stream",
     "text": [
      "PROMECO 7\n"
     ]
    }
   ],
   "source": [
    "name = input('Inserir nome')\n",
    "length = len(name)\n",
    "print(name,length)"
   ]
  },
  {
   "cell_type": "code",
   "execution_count": 7,
   "metadata": {},
   "outputs": [],
   "source": [
    "# EXPLICACAO:\n",
    "\n",
    "#Este é um código Python muito simples que faz duas coisas:\n",
    "\n",
    "# input(): Esta função é usada para obter uma entrada do usuário.\n",
    "# O Python vai parar e esperar o usuário digitar algo. \n",
    "# Quando o usuário pressiona Enter, o programa continua e a função input() retorna o que o usuário digitou como uma string.\n",
    "\n",
    "# len(): Esta função retorna o comprimento (o número de caracteres) de uma string.\n",
    "\n",
    "# print(): Esta função imprime o resultado na tela.\n",
    "\n",
    "# Então, quando você executa print(len(input())), \n",
    "# o Python espera que você digite algo e pressione Enter. \n",
    "# Em seguida, ele conta o número de caracteres no que você digitou e imprime esse número na tela.\n",
    "\n",
    "# Por exemplo, se você executar este código e digitar “Olá, mundo!”, o Python vai imprimir “12”, porque “Olá, mundo!” tem 12 caracteres (incluindo a vírgula e o espaço)."
   ]
  },
  {
   "cell_type": "code",
   "execution_count": null,
   "metadata": {},
   "outputs": [],
   "source": [
    "# TEST 1 ----- cirando os inputs para o usuario inserir a informação de lógica e gerar as variaveis:\n",
    "\n",
    "# mensagem para o usuário preencher o nome da cidade e definindo como variavel:\n",
    "name_city = input(\"What's the name of the city you grew up in?\\n\")\n",
    "\n",
    "# mensagem para o usuario preencher o nome do PET definindo assim como variavel:\n",
    "name_pet = input(\"What's your pet's name?\\n\")\n",
    "\n",
    "# juncao das variaveis para definir o nome final da banda:\n",
    "name_band = name_city + ' ' + name_pet # aspas com um espaço entre elas para nao ficar junto os nomes\n",
    "                    \n",
    "print('Welcome to the Band Name Generator')\n",
    "print('Your band name could be ' + name_band)"
   ]
  }
 ],
 "metadata": {
  "kernelspec": {
   "display_name": "Python 3",
   "language": "python",
   "name": "python3"
  },
  "language_info": {
   "codemirror_mode": {
    "name": "ipython",
    "version": 3
   },
   "file_extension": ".py",
   "mimetype": "text/x-python",
   "name": "python",
   "nbconvert_exporter": "python",
   "pygments_lexer": "ipython3",
   "version": "3.11.3"
  },
  "orig_nbformat": 4
 },
 "nbformat": 4,
 "nbformat_minor": 2
}
