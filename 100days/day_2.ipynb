{
 "cells": [
  {
   "cell_type": "code",
   "execution_count": 2,
   "metadata": {},
   "outputs": [],
   "source": [
    "# calculadora de gorjetas:\n",
    "\n",
    "# o calcúlo da gorjeta é baseado no total do serviço oferecido\n",
    "# a calculadora trará o resultado de acordo com a porcentagem inserida\n",
    "# a calculadora tbm ajuda com o numero total de pessoas que irã dividir a"
   ]
  },
  {
   "cell_type": "code",
   "execution_count": 3,
   "metadata": {},
   "outputs": [
    {
     "name": "stdout",
     "output_type": "stream",
     "text": [
      "     BEM VINDO, AO PROMECO BISTRÔ!        \n",
      "\n",
      "6.0 reais o total de gorjeta por pessoa, ao dividir por 2, obrigado :)\n"
     ]
    }
   ],
   "source": [
    "print(\"     BEM VINDO, AO PROMECO BISTRÔ!        \\n\")\n",
    "\n",
    "# Primeiro, pedimos ao usuário para inserir o total do serviço, o número de pessoas e a porcentagem da gorjeta.\n",
    "total_service = float(input(':) Insira o total do serviço consumido: R$'))\n",
    "total_people =  int(input(':) Quantas pessoas para contribuir com o serviço oferecido?'))\n",
    "\n",
    "# Usamos um loop while para garantir que a porcentagem inserida seja uma das opções sugeridas.\n",
    "percent = float(input(':) Insira a porcentagem desejada pelo serviço: 10, 12, 15'))\n",
    "while percent not in [10, 12, 15]:\n",
    "    print(\"Por favor, insira uma das porcentagens sugeridas: 10, 12 ou 15.\")\n",
    "    percent = float(input(':) Insira a porcentagem desejada pelo serviço: 10, 12, 15'))\n",
    "\n",
    "# Agora que temos todas as informações necessárias, podemos calcular a gorjeta.\n",
    "gorjeta = (percent/ 100) * total_service \n",
    "\n",
    "# Em seguida, dividimos a gorjeta pelo número de pessoas para obter a gorjeta por pessoa.\n",
    "gorjeta_por_pessoa = gorjeta/ total_people\n",
    "\n",
    "# Definimos a mensagem base.\n",
    "mensagem = str(gorjeta_por_pessoa) + ' reais o total de gorjeta por pessoa'\n",
    "\n",
    "# Se o número total de pessoas for maior que 1, adicionamos a parte \"ao dividir por...\" à mensagem.\n",
    "if total_people > 1:\n",
    "    mensagem += ', ao dividir por ' + str(total_people)\n",
    "\n",
    "# Adicionamos a parte final da mensagem.\n",
    "mensagem += ', obrigado :)'\n",
    "\n",
    "# Imprimimos a mensagem.\n",
    "print(mensagem)\n"
   ]
  },
  {
   "cell_type": "code",
   "execution_count": 11,
   "metadata": {},
   "outputs": [
    {
     "name": "stdout",
     "output_type": "stream",
     "text": [
      "                     BEM VINDO AO BISTRÔ PROMECO!\n",
      "\n",
      "Conta: R$150.0.\n",
      "\n",
      "A gorjeta ficou R$ 18.0 equivalente a porcentagem escolhida de 12%.\n",
      "\n",
      "A conta total junto com a gorjeta ficou R$ 33.60 dvidia por 5 pessoas.\n"
     ]
    }
   ],
   "source": [
    "print(\"                     BEM VINDO AO BISTRÔ PROMECO!\\n\")\n",
    "\n",
    "conta = float((input(\"insira o total da conta: \")))\n",
    "print(f\"Conta: R${conta}.\\n\")\n",
    "\n",
    "percent = int(input(\"Selecione apenas uma das tres porcentagens de gorjeta: 10, 12 ou 15: \"))\n",
    "pessoas = int(input(\"Quantas pessoas irão dividir: \"))\n",
    "\n",
    "gorjeta =  percent / 100 * conta\n",
    "conta_mais_gorjeta = gorjeta + conta\n",
    "conta_por_pessoa = round(conta_mais_gorjeta / pessoas,2)\n",
    "# como é um erro de formatacao nem sempre vai apararecer dois numeros depois da virgula o que é necessario tratandodo-se de dinheiro\n",
    "conta_por_pessoa = \"{:.2f}\".format(conta_por_pessoa)\n",
    "\n",
    "print(f\"A gorjeta ficou R$ {gorjeta} equivalente a porcentagem escolhida de {percent}%.\\n\")\n",
    "print(f\"A conta total junto com a gorjeta ficou R$ {conta_por_pessoa} dvidia por {pessoas} pessoas.\")"
   ]
  },
  {
   "cell_type": "code",
   "execution_count": null,
   "metadata": {},
   "outputs": [
    {
     "name": "stdout",
     "output_type": "stream",
     "text": [
      "3\n"
     ]
    },
    {
     "data": {
      "text/plain": [
       "'o'"
      ]
     },
     "execution_count": 92,
     "metadata": {},
     "output_type": "execute_result"
    }
   ],
   "source": [
    "# isso de puxar ou localizar um caractere de uma string é chamado de \"SUBSCRIPT\"\n",
    "\n",
    "print(\"Hello3\"[5])\n",
    "\"Hello\"[4]\n"
   ]
  },
  {
   "cell_type": "code",
   "execution_count": null,
   "metadata": {},
   "outputs": [],
   "source": [
    "# tipos de dados:\n",
    "\n",
    "# Inteiros -- (int): Este tipo representa os números inteiros positivos e negativos, como 10, 100, 500, etc. O\n",
    "# intervalo de valor desse tipo é ilimitado e está sujeito apenas à capacidade da memória.\n",
    "1154, 100\n",
    "# Ponto Flutuante--- (float): São números reais, que contém casas decimais\n",
    "3.14159\n",
    "\n",
    "# Booleanos (bool): Este tipo de dado pode ter um de dois valores possíveis\n",
    "# destinados a representar os valores de verdade verdadeiro e falso\n",
    "True\n",
    "False\n",
    "\n",
    "# Strings (str): Valores de texto, como “Olá”, “Mundo”, “Python”, etc\n",
    "variavel = \"Hello\"\n",
    "\n",
    "# Complexos: Este é um tipo numérico que define números complexos. \n",
    "# Números complexos são escritos na forma, x + yj, onde x é a parte real e y é a parte imaginária\n",
    "\n"
   ]
  },
  {
   "cell_type": "code",
   "execution_count": null,
   "metadata": {},
   "outputs": [
    {
     "name": "stdout",
     "output_type": "stream",
     "text": [
      "Seu nome possui 3 caracteres\n",
      "<class 'int'>\n",
      "<class 'str'>\n"
     ]
    }
   ],
   "source": [
    "# as vzs queremos utilizar uma variavel que é um numero inteiro (INT) e para transformar em string é preciso modificar o condigo:\n",
    "\n",
    "variavel = len(input(\"Seu nome?\")) # o len vai transformar em contagem o numero de caracteres, portando a informacao será um INT:\n",
    "\n",
    "# >>>> print(\"Seu nome possui\" + variavel + \"caracteres\") assum é a maneira que dará o erro\n",
    "\n",
    "nova_variavel = str(variavel) # assim foi transformada de int para string\n",
    "\n",
    "print(\"Seu nome possui \" + nova_variavel + \" caracteres\")\n",
    "\n",
    "# para verificar o tipo de dado se coloca o type: as vzs é bom quando nao tem certeza qual dado é\n",
    "\n",
    "print(type(variavel))\n",
    "print(type(nova_variavel))\n",
    "\n",
    "print(70 + float(\"100.5\"))"
   ]
  },
  {
   "cell_type": "code",
   "execution_count": null,
   "metadata": {},
   "outputs": [
    {
     "name": "stdout",
     "output_type": "stream",
     "text": [
      "<class 'str'>\n",
      "5\n"
     ]
    }
   ],
   "source": [
    "# exercicio de transformar os dois digitos em um, separa-los e depois soma-los:\n",
    "\n",
    "two_digit_number = input()\n",
    "\n",
    "print(type(two_digit_number)) # ao descobrir que é string precisa-se trasnformar em int:\n",
    "\n",
    "first = int(two_digit_number[0]) # transformando em int e já localizando o 1 numero para separdo do outro em uma outra variavel:\n",
    "\n",
    "second = int(two_digit_number[1])\n",
    "\n",
    "result = first + second\n",
    "\n",
    "print(result) # o resultado precisa ser a soma dois digitos sepados"
   ]
  },
  {
   "cell_type": "code",
   "execution_count": null,
   "metadata": {},
   "outputs": [],
   "source": [
    "# quando se trata das operacoes matematicas que sao PEMDAS, Parentheses, Exponents, Multiplication, Division, Addition, Subtraction\n",
    "# os sinais sao:\n",
    "# as regras das contas sao sempre da esquerda para direita respeitando tbm o PEMDAS\n",
    "3 + 5\n",
    "7 - 3\n",
    "5 * 2\n",
    "10 / 5 \n",
    "2 ** 3 # elevado\n",
    "# aqui o resultado é 7:\n",
    "print( 3 * 3 + 3 / 3 - 3) \n",
    "# aqui o resultado é 3:\n",
    "print( 3 * (3 + 3 )/ 3 - 3)"
   ]
  },
  {
   "cell_type": "code",
   "execution_count": null,
   "metadata": {},
   "outputs": [
    {
     "name": "stdout",
     "output_type": "stream",
     "text": [
      "23\n"
     ]
    }
   ],
   "source": [
    "# calculando o IMC:\n",
    "# FORMULA = IMC = KG/ M²\n",
    "\n",
    "# 1st input: enter height in meters exemple: 1.65\n",
    "height = float(input(\"insira sua altura, exemplo 1.65: \")) # precisa usar o float para o computador ler numeros decimais\n",
    "\n",
    "# 2nd input: enter weight in kilograms exemple: 72\n",
    "weight = float(input(\"Insira seu peso em kg: \")) # precisa usar o float para o computador ler numeros decimais\n",
    "\n",
    "imc = weight / height**2\n",
    "imc1 = int(imc)\n",
    "print(imc1)\n"
   ]
  },
  {
   "cell_type": "code",
   "execution_count": null,
   "metadata": {},
   "outputs": [
    {
     "name": "stdout",
     "output_type": "stream",
     "text": [
      "2.6666666666666665\n",
      "3\n",
      "2.67\n",
      "<class 'int'>\n",
      "2\n",
      "-3\n",
      "your score is 0, your altura is 1.8, you are the champion True\n"
     ]
    }
   ],
   "source": [
    "# temos um numero float:\n",
    "a = 8/3\n",
    "print(a)\n",
    "# para arredondar basta, ele ignorara tudo depois da virgula:\n",
    "b = round(8/3) \n",
    "print(b)\n",
    "# para arredondar definindo a quantidade de casas decimais basta:\n",
    "c = round(8/3, 2)\n",
    "print(c)\n",
    "\n",
    "# lembrnado que toda divisao trnasforma um numero em float\n",
    "# parar transforma-lo em int sem converter basta adcionar 2 barras:\n",
    "d = (8//3)\n",
    "print(type(d))\n",
    "print(d)\n",
    "\n",
    "# para manipular um valor com base no valor anterior utiliza um sinal de operacao e o =, exemplo +=\n",
    "score = 0\n",
    "score -= 3\n",
    "print(score)\n",
    "\n",
    "# 'f string ' ela torna facil codificar strings com outros tipos de dados:\n",
    "# aqui temos diferentes tipos de dados:\n",
    "score = 00\n",
    "altura = 1.80\n",
    "isWinning = True\n",
    "\n",
    "# se eu quiser printar ou codificar alguma coisa fica muito demorado manipular e converter variavel por variavel:\n",
    "# f-String:\n",
    "print(f\"your score is {score}, your altura is {altura}, you are the champion {isWinning}\") # colocando o f antes das aspas e a variavel dentro dos colchetes transformando os dados anteriores em str:\n"
   ]
  },
  {
   "cell_type": "code",
   "execution_count": null,
   "metadata": {},
   "outputs": [
    {
     "name": "stdout",
     "output_type": "stream",
     "text": [
      "You have 3588 weeks left.\n"
     ]
    }
   ],
   "source": [
    "# atividade para descobrir quantas semanas restantes de vida de acordo com a idade inserida sob 90 anos de vida:\n",
    "age = input(\"insira sua idade\")\n",
    "years = 90 - int(age) # 90 anos de vida menos sua idade atual para ver quantos falta para chegar la\n",
    "weeks = years * 52 # sao 52 semanas em um ano\n",
    "\n",
    "print(f\"You have {weeks} weeks left.\")\n"
   ]
  },
  {
   "cell_type": "code",
   "execution_count": null,
   "metadata": {},
   "outputs": [],
   "source": []
  }
 ],
 "metadata": {
  "kernelspec": {
   "display_name": "Python 3",
   "language": "python",
   "name": "python3"
  },
  "language_info": {
   "codemirror_mode": {
    "name": "ipython",
    "version": 3
   },
   "file_extension": ".py",
   "mimetype": "text/x-python",
   "name": "python",
   "nbconvert_exporter": "python",
   "pygments_lexer": "ipython3",
   "version": "3.11.3"
  }
 },
 "nbformat": 4,
 "nbformat_minor": 2
}
