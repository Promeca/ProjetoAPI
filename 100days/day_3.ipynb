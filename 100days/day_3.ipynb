{
 "cells": [
  {
   "cell_type": "code",
   "execution_count": 2,
   "metadata": {},
   "outputs": [],
   "source": [
    "# Condition statements, Logical Operators, Code Blocks and Scope\n",
    "\n",
    "# as condicionais if e else:\n",
    "\n",
    "if condition: #depois dos dois pontos temos a ordem do codigo que deve ser executado se a condicao for cumprida\n",
    "    do this\n",
    "else:        #se nao for passaremos para else com apenas a funcao digita e dois pontos e o codigo se caso a condicao nao for cumprida\n",
    "    do this\n"
   ]
  },
  {
   "cell_type": "code",
   "execution_count": 12,
   "metadata": {},
   "outputs": [
    {
     "name": "stdout",
     "output_type": "stream",
     "text": [
      "Nivel da água na banheira está 80 cm \n",
      "\n",
      "Continue a encher\n"
     ]
    }
   ],
   "source": [
    "# uma banahiera so cabe 80 cm de agua\n",
    "# ao passar ela ira vazar\n",
    "# mas se nao estiver no nivel de vazar podera continuar enchendo\n",
    "\n",
    "water_level = int(input(\"Insira o Nivel da água medido: \")) # insirindo o nivel da agua\n",
    "\n",
    "print(f\"Nivel da água na banheira está {water_level} cm \\n\") # mostrando o que foi digitado no input\n",
    "\n",
    "if water_level > 80: # se for maior que 80 \n",
    "    print(\"Drain water urgent\") # drenar\n",
    "else:                    # se nao\n",
    "    print(\"Continue a encher\") # continuar a encher\n"
   ]
  },
  {
   "cell_type": "code",
   "execution_count": 17,
   "metadata": {},
   "outputs": [
    {
     "name": "stdout",
     "output_type": "stream",
     "text": [
      "     BEM VINDO A MONTANHA RUSSA PROMECA :)     \n",
      "\n",
      "Informacoes de usuário:\n",
      "\n",
      "Nome: gui\n",
      "Idade: 12 anos \n",
      "Altura: 140 cm\n",
      "\n",
      "Bem vindo, entrada permitida.\n",
      "Seu ingresso custa 7$\n"
     ]
    }
   ],
   "source": [
    "# Montanha russa permitida somente para pessoas maior que 1,20 m:\n",
    "# maiores de 18 paga 12 $ \n",
    "# 12 anos ate 18 paga 7 $\n",
    "# menores de 12 paga 5 $\n",
    "\n",
    "# mensagem de boas vindas:\n",
    "\n",
    "print(\"     BEM VINDO A MONTANHA RUSSA PROMECA :)     \\n\")\n",
    "print(\"Informacoes de usuário:\\n\")\n",
    "\n",
    "\n",
    "# formulários do usuário:\n",
    "\n",
    "nome = input(\"Insira seu nome: \")\n",
    "idade = int(input(\"Insira sua idade: \"))\n",
    "altura = int(input(\"Insira a altura em cm: \"))\n",
    "print(f\"Nome: {nome}\\nIdade: {idade} anos \\nAltura: {altura} cm\\n\")\n",
    "\n",
    "# requisitos de altura:\n",
    "\n",
    "if altura >= 120:\n",
    "    print(\"Bem vindo, entrada permitida.\")\n",
    "    \n",
    "    if idade > 18: # maior que 18\n",
    "        print(\"Seu ingresso custa 12$\")\n",
    "\n",
    "    elif idade < 12: # menor que 12\n",
    "        print(\"Seu ingresso custa 5$\")\n",
    "\n",
    "    else: # se nao for nem maior que 18 e nem menor que 12: está entre 12 a 18\n",
    "        print(\"Seu ingresso custa 7$\")\n",
    "\n",
    "else:\n",
    "    print(\"Lamento, entrada negada, altura abaixo de 120 cm\")\n",
    "\n",
    "\n",
    "\n",
    "# maiores de 18 paga 12 $ xx\n",
    "# 12 anos ate 18 paga 7 $ \n",
    "# menores de 12 paga 5 $\n",
    "\n",
    "\n",
    "\n"
   ]
  },
  {
   "cell_type": "code",
   "execution_count": null,
   "metadata": {},
   "outputs": [],
   "source": [
    "Escreva um programa que funcione se um determinado número é ímpar ou par.\n",
    "\n",
    "Os números pares podem ser divididos por 2 sem restantes.\n",
    "\n",
    "por exemplo, 86 é mesmo porque 86 ÷ 2 = 43\n",
    "\n",
    "43 não tem casas decimais. Portanto, a divisão é limpa.\n",
    "\n",
    "por exemplo, 59 é ímpar porque 59 ÷ 2 = 29,5\n",
    "\n",
    "29,5 não é um número inteiro, tem casas decimais. Portanto, há um restante de 0,5, então a divisão não é limpa.\n",
    "\n",
    "O módulo é escrito como um sinal de porcentagem (%) em Python. Dá-lhe o restante depois de uma divisão.\n",
    "\n",
    "por exemplo,\n",
    "\n",
    "6 ÷ 2 = 3 sem resquícios.\n",
    "\n",
    "portanto: 6 % 2 = 0\n",
    "\n",
    "5 ÷ 2 = 2 x 2 + 1, o restante é 1.\n",
    "\n",
    "portanto: 5 % 2 = 1\n",
    "\n",
    "14 ÷ 4 = 3 x 4 + 2, o restante é 2.\n",
    "\n",
    "portanto: 14 % 4 = 2\n",
    "\n",
    "%: Este é o operador de módulo em Python. Ele retorna o resto da divisão do número à esquerda pelo número à direita. \n",
    "Por exemplo, 10 % 3 retornaria 1, porque quando você divide 10 por 3, o quociente é 3 e o resto é 1.\n",
    "\n",
    "\n",
    "Aviso sua saída deve corresponder exatamente ao formato de Saída de Exemplo, até mesmo as posições das vírgulas e pontos completos."
   ]
  },
  {
   "cell_type": "code",
   "execution_count": 1,
   "metadata": {},
   "outputs": [
    {
     "name": "stdout",
     "output_type": "stream",
     "text": [
      "numero escolhido: 8\n",
      "\n",
      "par\n"
     ]
    }
   ],
   "source": [
    "# verificacao se um numero é par ou impar:\n",
    "# numeros pares a divisao por 2 resulta em 0 e o impar a divisao resulta em um numero com casa decimal utilizando o modulo %\n",
    "\n",
    "number = int(input())\n",
    "print(f\"numero escolhido: {number}\\n\")\n",
    "\n",
    "if number % 2 == 0: #  esse sinal de porcentaagem é chamado de modulo\n",
    "    print('par')\n",
    "else:\n",
    "    print(\"impar\")"
   ]
  },
  {
   "cell_type": "code",
   "execution_count": 27,
   "metadata": {},
   "outputs": [
    {
     "name": "stdout",
     "output_type": "stream",
     "text": [
      "26.122448979591837\n",
      "Your BMI is 26.122448979591837, you are slightly overweight.\n"
     ]
    }
   ],
   "source": [
    "# calculadora IMC 2.0:\n",
    "# FORMULA = IMC = KG/ M²\n",
    "\n",
    "# 1st input: enter height in meters exemple: 1.65\n",
    "height = float(input(\"insira sua altura, exemplo 1.65: \")) # precisa usar o float para o computador ler numeros decimais\n",
    "\n",
    "# 2nd input: enter weight in kilograms exemple: 72\n",
    "weight = float(input(\"Insira seu peso em kg: \")) # precisa usar o float para o computador ler numeros decimais\n",
    "\n",
    "imc = weight / height**2\n",
    "my_imc = float(imc)\n",
    "print(my_imc)\n",
    "\n",
    "# O IMC POSSUI INDICES QUE INDICAM SEU NIVEL DE SAUDE, VAMOS COLOCAR O RESULTADO DENTRO DESSE INDICE PARA COMPARAR:\n",
    "\n",
    "if my_imc < 18.5:\n",
    "    print(f\"Your BMI is {my_imc}, you are underweight.\")\n",
    "\n",
    "elif my_imc < 25:\n",
    "    print(f\"Your BMI is {my_imc}, you have a normal weight.\")\n",
    "\n",
    "elif my_imc < 30:\n",
    "    print(f\"Your BMI is {my_imc}, you are slightly overweight.\")\n",
    "\n",
    "elif my_imc < 35:\n",
    "    print(f\"Your BMI is {my_imc}, you are obese.\")\n",
    "\n",
    "else:\n",
    "    print(f\"Your BMI is {my_imc}, you are clinically obese.\")\n"
   ]
  },
  {
   "cell_type": "code",
   "execution_count": 34,
   "metadata": {},
   "outputs": [
    {
     "name": "stdout",
     "output_type": "stream",
     "text": [
      "Ano: 2011 \n",
      "bissexto\n"
     ]
    }
   ],
   "source": [
    "# Criae um programa que verifique quando dado um ano qualquer se esse ano é bissexto:\n",
    "\n",
    "# Um ano normal tem 365 dias, anos bissextos têm 366, com um dia a mais em fevereiro.\n",
    "\n",
    "# A regra para um ano ser bissexto é que ele deve ser \n",
    "# divisível por 4, mas não por 100, a menos que também seja divisível por 400.\n",
    "\n",
    "year = int(input(\"Insira o ano:\"))\n",
    "print(f\"Ano: {year} \")\n",
    "\n",
    "etapa_1 = year % 4      # o modulo % ele traz o resto da divisao\n",
    "etapa_2 = year % 100    # o modulo % ele traz o resto da divisao\n",
    "etapa_3 = year % 400    # o modulo % ele traz o resto da divisao\n",
    "\n",
    "if etapa_1 == 0: # se na etapa 1 o resto for 0, significa que nao sobrou restos, entao passou para a proxima etapa:\n",
    "    if etapa_2 == 0: # se nao for por 100 é bissexto se for passa pra proxima:\n",
    "        if etapa_3 == 0:\n",
    "            print(\"É um ano bissexto!\")\n",
    "        else:\n",
    "            print(\"Não é bissexto!\")\n",
    "    else:\n",
    "        print(\"É um ano bissexto!\")\n",
    "else:\n",
    "    print(\"Não é bissexto!\")"
   ]
  },
  {
   "cell_type": "code",
   "execution_count": 36,
   "metadata": {},
   "outputs": [
    {
     "name": "stdout",
     "output_type": "stream",
     "text": [
      "Passou para etapa 2\n",
      "É um ano bissexto!\n"
     ]
    }
   ],
   "source": [
    "year = int(input(\"Insira o ano:\"))\n",
    "\n",
    "if year % 4 == 0: # o modulo aponta se o numero sobrou resto ou nao e qual foi o resto, neste caso comparando com o resto 0:\n",
    "    print(\"Passou para etapa 2\")\n",
    "    if year % 100 == 0: # etapa 2\n",
    "        print(\"Passou para etapa 3\")\n",
    "        if year % 400 == 0: # etapa 3\n",
    "            print(\"É um ano bissexto!\")\n",
    "        else:\n",
    "            print(\"Não é bissexto!\")\n",
    "    else:\n",
    "        print(\"É um ano bissexto!\")\n",
    "else:\n",
    "    print(\"Não é bissexto!\")\n",
    "\n",
    "# pq vc nao usou o elif?\n",
    "# Boa pergunta! No seu código, você está verificando várias condições que são dependentes umas das outras. \n",
    "# Ou seja, você só quer verificar a etapa_2 se a etapa_1 for verdadeira, \n",
    "# E só quer verificar a etapa_3 se a etapa_2 também for verdadeira.\n",
    "\n",
    "# Quando usamos elif, estamos criando condições que são independentes umas das outras. \n",
    "# Ou seja, o Python irá verificar cada condição elif independentemente de as condições anteriores serem verdadeiras ou falsas.\n",
    "\n",
    "# No entanto, no seu caso, como as condições são dependentes \n",
    "# (você só quer passar para a próxima etapa se a atual for verdadeira), \n",
    "# é mais apropriado usar instruções if aninhadas em vez de elif. \n",
    "# Isso garante que cada etapa só seja verificada se todas as etapas anteriores forem verdadeiras.\n"
   ]
  }
 ],
 "metadata": {
  "kernelspec": {
   "display_name": "Python 3",
   "language": "python",
   "name": "python3"
  },
  "language_info": {
   "codemirror_mode": {
    "name": "ipython",
    "version": 3
   },
   "file_extension": ".py",
   "mimetype": "text/x-python",
   "name": "python",
   "nbconvert_exporter": "python",
   "pygments_lexer": "ipython3",
   "version": "3.11.3"
  }
 },
 "nbformat": 4,
 "nbformat_minor": 2
}
